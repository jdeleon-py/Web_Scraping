{
 "cells": [
  {
   "cell_type": "code",
   "execution_count": 61,
   "metadata": {},
   "outputs": [],
   "source": [
    "from bs4 import BeautifulSoup\n",
    "import requests\n",
    "import csv"
   ]
  },
  {
   "cell_type": "code",
   "execution_count": 62,
   "metadata": {},
   "outputs": [],
   "source": [
    "url = 'https://www.imdb.com/name/nm0000217/?ref_=nv_sr_srsg_0' # Martin Scorsese\n",
    "source = requests.get(url).text\n",
    "\n",
    "soup = BeautifulSoup(source, 'lxml')"
   ]
  },
  {
   "cell_type": "code",
   "execution_count": 63,
   "metadata": {},
   "outputs": [
    {
     "name": "stdout",
     "output_type": "stream",
     "text": [
      "<div class=\"filmo-row odd\" id=\"director-tt1302006\">\n",
      "<span class=\"year_column\">\n",
      " 2019\n",
      "</span>\n",
      "<b><a href=\"/title/tt1302006/\">The Irishman</a></b>\n",
      "<br/>\n",
      "</div>\n"
     ]
    }
   ],
   "source": [
    "dir_works = [category for category in soup.find_all('div', class_ = 'filmo-category-section')][1] # Problem area: hardcoding index\n",
    "dir_works_arr = [works for works in dir_works.find_all('div')]\n",
    "print(dir_works_arr[6])"
   ]
  },
  {
   "cell_type": "code",
   "execution_count": 68,
   "metadata": {},
   "outputs": [
    {
     "name": "stdout",
     "output_type": "stream",
     "text": [
      "Error at iter: 10 --- Movie not found here.\n",
      "Error at iter: 19 --- Movie not found here.\n",
      "Error at iter: 26 --- Movie not found here.\n",
      "Error at iter: 31 --- Movie not found here.\n",
      "Error at iter: 40 --- Movie not found here.\n",
      "Error at iter: 53 --- Movie not found here.\n"
     ]
    }
   ],
   "source": [
    "links = []\n",
    "for element in range(0, len(dir_works_arr)):\n",
    "            try:\n",
    "                date = dir_works_arr[element].find('span', class_ = 'year_column').text\n",
    "                date = date.split('\\xa0')[1].split('\\n')[0].split('/')[0].split('-')[0]\n",
    "\n",
    "                if not date:\n",
    "                    pass\n",
    "\n",
    "                elif int(date) <= 2019:\n",
    "                    link = dir_works_arr[element].find('a', href = True)['href']\n",
    "                    links.append('https://imdb.com' + link)\n",
    "\n",
    "                else:\n",
    "                    pass\n",
    "\n",
    "            except AttributeError:\n",
    "                print('Error at iter: ' + str(element) + ' --- Movie not found here.')"
   ]
  },
  {
   "cell_type": "code",
   "execution_count": 5,
   "metadata": {},
   "outputs": [
    {
     "data": {
      "text/plain": [
       "['https://imdb.com/title/tt11353562/',\n",
       " 'https://imdb.com/title/tt1302006/',\n",
       " 'https://imdb.com/title/tt9577852/',\n",
       " 'https://imdb.com/title/tt0490215/',\n",
       " 'https://imdb.com/title/tt3186130/',\n",
       " 'https://imdb.com/title/tt4016250/',\n",
       " 'https://imdb.com/title/tt3510820/',\n",
       " 'https://imdb.com/title/tt10908058/',\n",
       " 'https://imdb.com/title/tt0993846/',\n",
       " 'https://imdb.com/title/tt0970179/',\n",
       " 'https://imdb.com/title/tt1113829/',\n",
       " 'https://imdb.com/title/tt1734477/',\n",
       " 'https://imdb.com/title/tt0979432/',\n",
       " 'https://imdb.com/title/tt0808245/',\n",
       " 'https://imdb.com/title/tt1130884/',\n",
       " 'https://imdb.com/title/tt0893382/',\n",
       " 'https://imdb.com/title/tt1151319/',\n",
       " 'https://imdb.com/title/tt0407887/',\n",
       " 'https://imdb.com/title/tt0364151/',\n",
       " 'https://imdb.com/title/tt0338751/',\n",
       " 'https://imdb.com/title/tt0397507/',\n",
       " 'https://imdb.com/title/tt0768131/',\n",
       " 'https://imdb.com/title/tt0287198/',\n",
       " 'https://imdb.com/title/tt0217505/',\n",
       " 'https://imdb.com/title/tt2061828/',\n",
       " 'https://imdb.com/title/tt0298810/',\n",
       " 'https://imdb.com/title/tt0163988/',\n",
       " 'https://imdb.com/title/tt0173772/',\n",
       " 'https://imdb.com/title/tt0119485/',\n",
       " 'https://imdb.com/title/tt0167988/',\n",
       " 'https://imdb.com/title/tt10198576/',\n",
       " 'https://imdb.com/title/tt0112641/',\n",
       " 'https://imdb.com/title/tt0106226/',\n",
       " 'https://imdb.com/title/tt2243597/',\n",
       " 'https://imdb.com/title/tt0101540/',\n",
       " 'https://imdb.com/title/tt0100086/',\n",
       " 'https://imdb.com/title/tt0099685/',\n",
       " 'https://imdb.com/title/tt0097965/',\n",
       " 'https://imdb.com/title/tt0374003/',\n",
       " 'https://imdb.com/title/tt0095497/',\n",
       " 'https://imdb.com/title/tt0124288/',\n",
       " 'https://imdb.com/title/tt0090863/',\n",
       " 'https://imdb.com/title/tt0088478/',\n",
       " 'https://imdb.com/title/tt0088680/',\n",
       " 'https://imdb.com/title/tt0085794/',\n",
       " 'https://imdb.com/title/tt0081398/',\n",
       " 'https://imdb.com/title/tt0077157/',\n",
       " 'https://imdb.com/title/tt0077838/',\n",
       " 'https://imdb.com/title/tt0076451/',\n",
       " 'https://imdb.com/title/tt0075314/',\n",
       " 'https://imdb.com/title/tt0071115/',\n",
       " 'https://imdb.com/title/tt0071680/',\n",
       " 'https://imdb.com/title/tt0070379/',\n",
       " 'https://imdb.com/title/tt0068309/',\n",
       " 'https://imdb.com/title/tt0066416/',\n",
       " 'https://imdb.com/title/tt0061402/',\n",
       " 'https://imdb.com/title/tt0063803/',\n",
       " 'https://imdb.com/title/tt3413658/',\n",
       " 'https://imdb.com/title/tt0058242/',\n",
       " 'https://imdb.com/title/tt0057680/',\n",
       " 'https://imdb.com/title/tt0053416/']"
      ]
     },
     "execution_count": 5,
     "metadata": {},
     "output_type": "execute_result"
    }
   ],
   "source": [
    "links"
   ]
  },
  {
   "cell_type": "code",
   "execution_count": null,
   "metadata": {},
   "outputs": [],
   "source": []
  },
  {
   "cell_type": "code",
   "execution_count": 6,
   "metadata": {},
   "outputs": [],
   "source": [
    "url = 'https://www.imdb.com/name/nm0000229/?ref_=fn_al_nm_1' # Spielberg\n",
    "source = requests.get(url).text\n",
    "\n",
    "soup = BeautifulSoup(source, 'lxml')"
   ]
  },
  {
   "cell_type": "code",
   "execution_count": 7,
   "metadata": {},
   "outputs": [
    {
     "name": "stdout",
     "output_type": "stream",
     "text": [
      "<div class=\"filmo-row odd\" id=\"director-tt0443272\">\n",
      "<span class=\"year_column\">\n",
      " 2012\n",
      "</span>\n",
      "<b><a href=\"/title/tt0443272/\">Lincoln</a></b>\n",
      "<br/>\n",
      "</div>\n"
     ]
    }
   ],
   "source": [
    "dir_works = [category for category in soup.find_all('div', class_ = 'filmo-category-section')][2] #Problem area: hardcoding index\n",
    "dir_works_arr = [works for works in dir_works.find_all('div')]\n",
    "print(dir_works_arr[6])"
   ]
  },
  {
   "cell_type": "code",
   "execution_count": 8,
   "metadata": {},
   "outputs": [
    {
     "name": "stdout",
     "output_type": "stream",
     "text": [
      "Error at iter: 33\n",
      "Error at iter: 34\n",
      "Error at iter: 48\n",
      "Error at iter: 50\n",
      "Error at iter: 52\n",
      "Error at iter: 53\n",
      "Error at iter: 55\n",
      "Error at iter: 57\n",
      "Error at iter: 58\n",
      "Error at iter: 60\n"
     ]
    }
   ],
   "source": [
    "links = []\n",
    "for element in range(0, len(dir_works_arr)):\n",
    "    try:\n",
    "        date = dir_works_arr[element].find('span', class_ = 'year_column').text\n",
    "        date = date.split('\\xa0')[1].split('\\n')[0].split('/')[0].split('-')[0]\n",
    "        \n",
    "        if not date:\n",
    "            pass\n",
    "        \n",
    "        elif int(date) <= 2019:\n",
    "            link = dir_works_arr[element].find('a', href = True)['href']\n",
    "            links.append('https://imdb.com' + link)\n",
    "        \n",
    "        else:\n",
    "            pass\n",
    "        \n",
    "    except AttributeError:\n",
    "        print('Error at iter: ' + str(element))"
   ]
  },
  {
   "cell_type": "code",
   "execution_count": 9,
   "metadata": {},
   "outputs": [
    {
     "data": {
      "text/plain": [
       "['https://imdb.com/title/tt1677720/',\n",
       " 'https://imdb.com/title/tt6294822/',\n",
       " 'https://imdb.com/title/tt3691740/',\n",
       " 'https://imdb.com/title/tt3682448/',\n",
       " 'https://imdb.com/title/tt0443272/',\n",
       " 'https://imdb.com/title/tt1568911/',\n",
       " 'https://imdb.com/title/tt0983193/',\n",
       " 'https://imdb.com/title/tt1287857/',\n",
       " 'https://imdb.com/title/tt0367882/',\n",
       " 'https://imdb.com/title/tt0408306/',\n",
       " 'https://imdb.com/title/tt0407304/',\n",
       " 'https://imdb.com/title/tt0362227/',\n",
       " 'https://imdb.com/title/tt0264464/',\n",
       " 'https://imdb.com/title/tt0181689/',\n",
       " 'https://imdb.com/title/tt0212720/',\n",
       " 'https://imdb.com/title/tt8886044/',\n",
       " 'https://imdb.com/title/tt0236824/',\n",
       " 'https://imdb.com/title/tt0120815/',\n",
       " 'https://imdb.com/title/tt0118607/',\n",
       " 'https://imdb.com/title/tt0119567/',\n",
       " 'https://imdb.com/title/tt0124142/',\n",
       " 'https://imdb.com/title/tt0108052/',\n",
       " 'https://imdb.com/title/tt0107290/',\n",
       " 'https://imdb.com/title/tt0102057/',\n",
       " 'https://imdb.com/title/tt0100876/',\n",
       " 'https://imdb.com/title/tt0096794/',\n",
       " 'https://imdb.com/title/tt0097576/',\n",
       " 'https://imdb.com/title/tt0092965/',\n",
       " 'https://imdb.com/title/tt7763324/',\n",
       " 'https://imdb.com/title/tt0088939/',\n",
       " 'https://imdb.com/title/tt0088478/',\n",
       " 'https://imdb.com/title/tt0249321/',\n",
       " 'https://imdb.com/title/tt0087469/',\n",
       " 'https://imdb.com/title/tt0086491/',\n",
       " 'https://imdb.com/title/tt0083866/',\n",
       " 'https://imdb.com/title/tt0082971/',\n",
       " 'https://imdb.com/title/tt0078723/',\n",
       " 'https://imdb.com/title/tt0075860/',\n",
       " 'https://imdb.com/title/tt0073195/',\n",
       " 'https://imdb.com/title/tt0072226/',\n",
       " 'https://imdb.com/title/tt0070638/',\n",
       " 'https://imdb.com/title/tt0069298/',\n",
       " 'https://imdb.com/title/tt0067023/',\n",
       " 'https://imdb.com/title/tt0066696/',\n",
       " 'https://imdb.com/title/tt1466074/',\n",
       " 'https://imdb.com/title/tt0066705/',\n",
       " 'https://imdb.com/title/tt0062591/',\n",
       " 'https://imdb.com/title/tt0065327/',\n",
       " 'https://imdb.com/title/tt0063927/',\n",
       " 'https://imdb.com/title/tt0064010/',\n",
       " 'https://imdb.com/title/tt0249968/',\n",
       " 'https://imdb.com/title/tt0059181/',\n",
       " 'https://imdb.com/title/tt0054857/',\n",
       " 'https://imdb.com/title/tt0054670/',\n",
       " 'https://imdb.com/title/tt0052991/']"
      ]
     },
     "execution_count": 9,
     "metadata": {},
     "output_type": "execute_result"
    }
   ],
   "source": [
    "links"
   ]
  },
  {
   "cell_type": "code",
   "execution_count": null,
   "metadata": {},
   "outputs": [],
   "source": []
  },
  {
   "cell_type": "code",
   "execution_count": null,
   "metadata": {},
   "outputs": [],
   "source": []
  },
  {
   "cell_type": "code",
   "execution_count": 77,
   "metadata": {},
   "outputs": [
    {
     "data": {
      "text/plain": [
       "'\\nif name == main:\\n    test = IMDB_Scraper(dir_url, 1)\\n    \\n    movie_links = test.links\\n    \\n    for movie in range(0, len(movie_links)):\\n        name, rating, runtime, etc... = test.inspect_movie(movie_links[movie])\\n        csv.writerow([name, rating, runtime, etc...])\\n        \\n    csv.close()\\n'"
      ]
     },
     "execution_count": 77,
     "metadata": {},
     "output_type": "execute_result"
    }
   ],
   "source": [
    "# scraper\n",
    "from bs4 import BeautifulSoup\n",
    "import requests\n",
    "import csv\n",
    "import time\n",
    "\n",
    "class IMDB_Scraper:\n",
    "    \n",
    "    def __init__(self, dir_url, dir_index):\n",
    "        self.source = requests.get(dir_url).text\n",
    "        self.soup = BeautifulSoup(self.source, 'lxml')\n",
    "        \n",
    "        self.links = []\n",
    "        \n",
    "        dir_works = [category for category in self.soup.find_all('div', class_ = 'filmo-category-section')][dir_index]\n",
    "        dir_works_arr = [works for works in dir_works.find_all('div')]\n",
    "        \n",
    "        for element in range(0, len(dir_works_arr)):\n",
    "            try:\n",
    "                date = dir_works_arr[element].find('span', class_ = 'year_column').text\n",
    "                date = date.split('\\xa0')[1].split('\\n')[0].split('/')[0].split('-')[0]\n",
    "\n",
    "                if not date:\n",
    "                    pass\n",
    "\n",
    "                elif int(date) <= 2019:\n",
    "                    link = dir_works_arr[element].find('a', href = True)['href']\n",
    "                    self.links.append('https://imdb.com' + link)\n",
    "\n",
    "                else:\n",
    "                    pass\n",
    "\n",
    "            except AttributeError:\n",
    "                print('Error at iter: ' + str(element) + ' --- Movie not found here.')\n",
    "                \n",
    "    \n",
    "    def request_movie(self, movie_url):\n",
    "        self.source = requests.get(movie_url).text\n",
    "        self.soup = BeautifulSoup(self.source, 'lxml')\n",
    "        self.info = self.soup.find('div', class_ = 'title_wrapper')\n",
    "        \n",
    "    \n",
    "    def movie_title(self):\n",
    "        try:\n",
    "            return self.info.find('h1').text.split('\\xa0')[0]\n",
    "        except:\n",
    "            return 'N/A'\n",
    "    \n",
    "    \n",
    "    def release_date(self):\n",
    "        try:\n",
    "            return self.info.find('div', class_ = 'subtext').text.strip().split('\\n')[-1]\n",
    "        except:\n",
    "            return 'N/A'\n",
    "    \n",
    "    \n",
    "    def runtime(self):\n",
    "        try:\n",
    "            return self.info.find('time').text.strip()\n",
    "        except:\n",
    "            return 'N/A'\n",
    "        \n",
    "   \n",
    "    def age_rating(self):\n",
    "        try: \n",
    "            age_rating = self.info.find('div', class_ = 'subtext').text.strip().split('\\n')[0]\n",
    "            \n",
    "            if age_rating == self.runtime():\n",
    "                return 'N/A'\n",
    "            else:\n",
    "                return age_rating\n",
    "        except:\n",
    "            return 'N/A'\n",
    "    \n",
    "    \n",
    "    def genre(self):\n",
    "        try:\n",
    "            return [self.info.find('div', class_ = 'subtext').text.strip().split('|')[2]]\n",
    "        except:\n",
    "            return 'N/A'\n",
    "    \n",
    "    \n",
    "    def score(self):\n",
    "        try:\n",
    "            return self.soup.find('div', class_ = 'ratingValue').text.strip()\n",
    "        except:\n",
    "            return 'N/A'\n",
    "    \n",
    "    \n",
    "# Plan:\n",
    "# in main function resides the loop that goes through scraper movie_inspect functions\n",
    "# Each scraper function will return a value that will be written to csv in main function\n",
    "'''\n",
    "if name == main:\n",
    "    test = IMDB_Scraper(dir_url, 1)\n",
    "    \n",
    "    movie_links = test.links\n",
    "    \n",
    "    for movie in range(0, len(movie_links)):\n",
    "        name, rating, runtime, etc... = test.inspect_movie(movie_links[movie])\n",
    "        csv.writerow([name, rating, runtime, etc...])\n",
    "        \n",
    "    csv.close()\n",
    "'''"
   ]
  },
  {
   "cell_type": "code",
   "execution_count": 81,
   "metadata": {},
   "outputs": [
    {
     "name": "stdout",
     "output_type": "stream",
     "text": [
      "Error at iter: 8 --- Movie not found here.\n",
      "Error at iter: 9 --- Movie not found here.\n",
      "Error at iter: 12 --- Movie not found here.\n",
      "Error at iter: 18 --- Movie not found here.\n",
      "['Once Upon a Time... in Hollywood', '26 July 2019 (USA)', '2h 41min', 'R', ['\\nComedy, \\nDrama\\n'], '7.7/10']\n",
      "\n",
      "\n",
      "['The Hateful Eight', '30 December 2015 (USA)', '2h 48min', 'R', ['\\nCrime, \\nDrama, \\nMystery\\n'], '7.8/10']\n",
      "\n",
      "\n",
      "['Django Unchained', '25 December 2012 (USA)', '2h 45min', 'R', ['\\nDrama, \\nWestern\\n'], '8.4/10']\n",
      "\n",
      "\n",
      "['Kill Bill: The Whole Bloody Affair', '27 March 2011 (USA)', '4h 7min', 'Not Rated', ['\\nAction, \\nCrime, \\nThriller\\n'], '8.8/10']\n",
      "\n",
      "\n",
      "['Inglourious Basterds', '21 August 2009 (USA)', '2h 33min', 'R', ['\\nAdventure, \\nDrama, \\nWar\\n'], '8.3/10']\n",
      "\n",
      "\n",
      "['Death Proof', '31 May 2007 (Hungary)', '2h 7min', 'TV-MA', ['\\nAction, \\nAdventure, \\nThriller\\n'], '7.0/10']\n",
      "\n",
      "\n",
      "['Grindhouse', '6 April 2007 (USA)', '3h 11min', 'R', ['\\nAction, \\nHorror, \\nThriller\\n'], '7.5/10']\n",
      "\n",
      "\n",
      "['CSI: Crime Scene Investigation', 'TV Series (2000–2015)', '1h', 'TV-14', ['\\nCrime, \\nDrama, \\nMystery\\n'], '7.6/10']\n",
      "\n",
      "\n",
      "['Sin City', '1 April 2005 (USA)', '2h 4min', 'R', ['\\nCrime, \\nThriller\\n'], '8.0/10']\n",
      "\n",
      "\n",
      "['Jimmy Kimmel Live!', 'TV Series (2003– )', '1h', 'TV-14', ['\\nComedy, \\nMusic, \\nTalk-Show\\n'], '6.6/10']\n",
      "\n",
      "\n",
      "['Kill Bill: Vol. 2', '16 April 2004 (USA)', '2h 17min', 'R', ['\\nAction, \\nCrime, \\nThriller\\n'], '8.0/10']\n",
      "\n",
      "\n",
      "['Kill Bill: Vol. 1', '10 October 2003 (USA)', '1h 51min', 'R', ['\\nAction, \\nCrime, \\nThriller\\n'], '8.1/10']\n",
      "\n",
      "\n",
      "['Jackie Brown', '25 December 1997 (USA)', '2h 34min', 'R', ['\\nCrime, \\nDrama, \\nThriller\\n'], '7.5/10']\n",
      "\n",
      "\n",
      "['Four Rooms', '25 December 1995 (USA)', '1h 38min', 'R', ['\\nComedy\\n'], '6.8/10']\n",
      "\n",
      "\n",
      "['ER', 'TV Series (1994–2009)', '44min', 'TV-14', ['\\nDrama, \\nRomance\\n'], '7.7/10']\n",
      "\n",
      "\n",
      "['Pulp Fiction', '14 October 1994 (USA)', '2h 34min', 'R', ['\\nCrime, \\nDrama\\n'], '8.9/10']\n",
      "\n",
      "\n",
      "['Reservoir Dogs: Deleted Scenes', 'Video 27 August 2002', '13min', 'N/A', ['\\nVideo 27 August 2002'], '8.5/10']\n",
      "\n",
      "\n",
      "['Reservoir Dogs', '2 September 1992 (France)', '1h 39min', 'R', ['\\nCrime, \\nDrama, \\nThriller\\n'], '8.3/10']\n",
      "\n",
      "\n",
      "['Reservoir Dogs: Sundance Institute 1991 June Film Lab', 'Video June 1991', '12min', 'N/A', ['\\nVideo June 1991'], '6.3/10']\n",
      "\n",
      "\n",
      "[\"My Best Friend's Birthday\", '1987 (USA)', '1h 30min', 'Not Rated', ['\\nComedy\\n'], '5.7/10']\n",
      "\n",
      "\n",
      "['Love Birds in Bondage', '1983 (USA)', 'N/A', 'Short, ', 'N/A', 'N/A']\n",
      "\n",
      "\n"
     ]
    }
   ],
   "source": [
    "# 'https://www.imdb.com/name/nm0000217/' --- Scorsese --- index = 1\n",
    "# 'https://www.imdb.com/name/nm0000229/' --- Spielberg --- index = 2\n",
    "# 'https://www.imdb.com/name/nm0000040/' --- Kubrick --- index = 0\n",
    "# 'https://www.imdb.com/name/nm0634240/' --- Nolan --- index = 2\n",
    "# 'https://www.imdb.com/name/nm0000233/' --- Tarantino --- index = 3\n",
    "\n",
    "test = IMDB_Scraper(dir_url = 'https://www.imdb.com/name/nm0000233/', dir_index = 3)\n",
    "\n",
    "movie_links = test.links\n",
    "\n",
    "for movie in range(0, len(movie_links)):\n",
    "    test.request_movie(movie_links[movie])\n",
    "\n",
    "    title = test.movie_title()\n",
    "    release_date = test.release_date()\n",
    "    runtime = test.runtime()\n",
    "    age_rating = test.age_rating()\n",
    "    genre = test.genre()\n",
    "    score = test.score()\n",
    "\n",
    "    print([title, release_date, runtime, age_rating, genre, score])\n",
    "    print('\\n')\n",
    "    time.sleep(1)\n",
    "    "
   ]
  },
  {
   "cell_type": "code",
   "execution_count": null,
   "metadata": {},
   "outputs": [],
   "source": [
    "if __name__ == '__main__':\n",
    "    scorsese = ('https://www.imdb.com/name/nm0000217/', 1)\n",
    "    spielberg = ('')"
   ]
  },
  {
   "cell_type": "code",
   "execution_count": 83,
   "metadata": {},
   "outputs": [],
   "source": [
    "arr = [1, (1,3,5), 4]"
   ]
  },
  {
   "cell_type": "code",
   "execution_count": null,
   "metadata": {},
   "outputs": [],
   "source": []
  },
  {
   "cell_type": "code",
   "execution_count": 11,
   "metadata": {},
   "outputs": [],
   "source": [
    "url = 'https://www.imdb.com/title/tt1302006/?ref_=nm_flmg_dr_7' # The Irishman\n",
    "source = requests.get(url).text\n",
    "\n",
    "soup = BeautifulSoup(source, 'lxml')"
   ]
  },
  {
   "cell_type": "code",
   "execution_count": 14,
   "metadata": {},
   "outputs": [
    {
     "data": {
      "text/plain": [
       "<div class=\"title_wrapper\">\n",
       "<h1 class=\"\">The Irishman <span id=\"titleYear\">(<a href=\"/year/2019/\">2019</a>)</span> </h1>\n",
       "<div class=\"subtext\">\n",
       "                    R\n",
       "    <span class=\"ghost\">|</span> <time datetime=\"PT209M\">\n",
       "                        3h 29min\n",
       "                    </time>\n",
       "<span class=\"ghost\">|</span>\n",
       "<a href=\"/search/title?genres=biography&amp;explore=title_type,genres\">Biography</a>, \n",
       "<a href=\"/search/title?genres=crime&amp;explore=title_type,genres\">Crime</a>, \n",
       "<a href=\"/search/title?genres=drama&amp;explore=title_type,genres\">Drama</a>\n",
       "<span class=\"ghost\">|</span>\n",
       "<a href=\"/title/tt1302006/releaseinfo\" title=\"See more release dates\">27 November 2019 (USA)\n",
       "</a> </div>\n",
       "</div>"
      ]
     },
     "execution_count": 14,
     "metadata": {},
     "output_type": "execute_result"
    }
   ],
   "source": [
    "info = soup.find('div', class_ = 'title_wrapper')\n",
    "info"
   ]
  },
  {
   "cell_type": "code",
   "execution_count": 16,
   "metadata": {},
   "outputs": [
    {
     "data": {
      "text/plain": [
       "'The Irishman'"
      ]
     },
     "execution_count": 16,
     "metadata": {},
     "output_type": "execute_result"
    }
   ],
   "source": [
    "info.find('h1').text.split('\\xa0')[0] # title"
   ]
  },
  {
   "cell_type": "code",
   "execution_count": 38,
   "metadata": {},
   "outputs": [
    {
     "data": {
      "text/plain": [
       "'27 November 2019 (USA)'"
      ]
     },
     "execution_count": 38,
     "metadata": {},
     "output_type": "execute_result"
    }
   ],
   "source": [
    "info.find('div', class_ = 'subtext').text.strip().split('\\n')[-1] # release date"
   ]
  },
  {
   "cell_type": "code",
   "execution_count": 29,
   "metadata": {},
   "outputs": [
    {
     "data": {
      "text/plain": [
       "'3h 29min'"
      ]
     },
     "execution_count": 29,
     "metadata": {},
     "output_type": "execute_result"
    }
   ],
   "source": [
    "info.find('time').text.strip() #runtime"
   ]
  },
  {
   "cell_type": "code",
   "execution_count": 33,
   "metadata": {},
   "outputs": [
    {
     "data": {
      "text/plain": [
       "'R'"
      ]
     },
     "execution_count": 33,
     "metadata": {},
     "output_type": "execute_result"
    }
   ],
   "source": [
    "info.find('div', class_ = 'subtext').text.strip().split('\\n')[0] #age rating"
   ]
  },
  {
   "cell_type": "code",
   "execution_count": 51,
   "metadata": {},
   "outputs": [
    {
     "data": {
      "text/plain": [
       "['\\nBiography, \\nCrime, \\nDrama\\n']"
      ]
     },
     "execution_count": 51,
     "metadata": {},
     "output_type": "execute_result"
    }
   ],
   "source": [
    "[info.find('div', class_ = 'subtext').text.strip().split('|')[2]] #genre(s)"
   ]
  },
  {
   "cell_type": "code",
   "execution_count": 35,
   "metadata": {},
   "outputs": [
    {
     "data": {
      "text/plain": [
       "'7.9/10'"
      ]
     },
     "execution_count": 35,
     "metadata": {},
     "output_type": "execute_result"
    }
   ],
   "source": [
    "soup.find('div', class_ = 'ratingValue').text.strip() #rating"
   ]
  },
  {
   "cell_type": "code",
   "execution_count": null,
   "metadata": {},
   "outputs": [],
   "source": []
  },
  {
   "cell_type": "code",
   "execution_count": 57,
   "metadata": {},
   "outputs": [],
   "source": []
  },
  {
   "cell_type": "code",
   "execution_count": null,
   "metadata": {},
   "outputs": [],
   "source": []
  },
  {
   "cell_type": "code",
   "execution_count": null,
   "metadata": {},
   "outputs": [],
   "source": []
  }
 ],
 "metadata": {
  "kernelspec": {
   "display_name": "Python 3",
   "language": "python",
   "name": "python3"
  },
  "language_info": {
   "codemirror_mode": {
    "name": "ipython",
    "version": 3
   },
   "file_extension": ".py",
   "mimetype": "text/x-python",
   "name": "python",
   "nbconvert_exporter": "python",
   "pygments_lexer": "ipython3",
   "version": "3.6.5"
  }
 },
 "nbformat": 4,
 "nbformat_minor": 2
}
